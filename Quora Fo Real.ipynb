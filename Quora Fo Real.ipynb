{
 "cells": [
  {
   "cell_type": "code",
   "execution_count": 4,
   "metadata": {
    "collapsed": false
   },
   "outputs": [
    {
     "name": "stdout",
     "output_type": "stream",
     "text": [
      "Training:  (404290, 6)\n",
      "Test:  (2345796, 3)\n"
     ]
    }
   ],
   "source": [
    "#Let's start by importing our csv's as DataFrames\n",
    "import pandas as pd\n",
    "\n",
    "df_train = pd.read_csv(\"train.csv\")\n",
    "df_test = pd.read_csv(\"test.csv\")\n",
    "\n",
    "print('Training: ', df_train.shape)\n",
    "print('Test: ', df_test.shape)"
   ]
  },
  {
   "cell_type": "code",
   "execution_count": 12,
   "metadata": {
    "collapsed": false
   },
   "outputs": [
    {
     "data": {
      "text/html": [
       "<div>\n",
       "<table border=\"1\" class=\"dataframe\">\n",
       "  <thead>\n",
       "    <tr style=\"text-align: right;\">\n",
       "      <th></th>\n",
       "      <th>id</th>\n",
       "      <th>qid1</th>\n",
       "      <th>qid2</th>\n",
       "      <th>question1</th>\n",
       "      <th>question2</th>\n",
       "      <th>is_duplicate</th>\n",
       "    </tr>\n",
       "  </thead>\n",
       "  <tbody>\n",
       "    <tr>\n",
       "      <th>0</th>\n",
       "      <td>0</td>\n",
       "      <td>1</td>\n",
       "      <td>2</td>\n",
       "      <td>What is the step by step guide to invest in sh...</td>\n",
       "      <td>What is the step by step guide to invest in sh...</td>\n",
       "      <td>0</td>\n",
       "    </tr>\n",
       "    <tr>\n",
       "      <th>1</th>\n",
       "      <td>1</td>\n",
       "      <td>3</td>\n",
       "      <td>4</td>\n",
       "      <td>What is the story of Kohinoor (Koh-i-Noor) Dia...</td>\n",
       "      <td>What would happen if the Indian government sto...</td>\n",
       "      <td>0</td>\n",
       "    </tr>\n",
       "    <tr>\n",
       "      <th>2</th>\n",
       "      <td>2</td>\n",
       "      <td>5</td>\n",
       "      <td>6</td>\n",
       "      <td>How can I increase the speed of my internet co...</td>\n",
       "      <td>How can Internet speed be increased by hacking...</td>\n",
       "      <td>0</td>\n",
       "    </tr>\n",
       "    <tr>\n",
       "      <th>3</th>\n",
       "      <td>3</td>\n",
       "      <td>7</td>\n",
       "      <td>8</td>\n",
       "      <td>Why am I mentally very lonely? How can I solve...</td>\n",
       "      <td>Find the remainder when [math]23^{24}[/math] i...</td>\n",
       "      <td>0</td>\n",
       "    </tr>\n",
       "    <tr>\n",
       "      <th>4</th>\n",
       "      <td>4</td>\n",
       "      <td>9</td>\n",
       "      <td>10</td>\n",
       "      <td>Which one dissolve in water quikly sugar, salt...</td>\n",
       "      <td>Which fish would survive in salt water?</td>\n",
       "      <td>0</td>\n",
       "    </tr>\n",
       "  </tbody>\n",
       "</table>\n",
       "</div>"
      ],
      "text/plain": [
       "   id  qid1  qid2                                          question1  \\\n",
       "0   0     1     2  What is the step by step guide to invest in sh...   \n",
       "1   1     3     4  What is the story of Kohinoor (Koh-i-Noor) Dia...   \n",
       "2   2     5     6  How can I increase the speed of my internet co...   \n",
       "3   3     7     8  Why am I mentally very lonely? How can I solve...   \n",
       "4   4     9    10  Which one dissolve in water quikly sugar, salt...   \n",
       "\n",
       "                                           question2  is_duplicate  \n",
       "0  What is the step by step guide to invest in sh...             0  \n",
       "1  What would happen if the Indian government sto...             0  \n",
       "2  How can Internet speed be increased by hacking...             0  \n",
       "3  Find the remainder when [math]23^{24}[/math] i...             0  \n",
       "4            Which fish would survive in salt water?             0  "
      ]
     },
     "execution_count": 12,
     "metadata": {},
     "output_type": "execute_result"
    }
   ],
   "source": [
    "#Print info about our data frame\n",
    "df_train.head()"
   ]
  },
  {
   "cell_type": "code",
   "execution_count": 14,
   "metadata": {
    "collapsed": false
   },
   "outputs": [
    {
     "name": "stdout",
     "output_type": "stream",
     "text": [
      "<class 'pandas.core.frame.DataFrame'>\n",
      "Int64Index: 20000 entries, 292283 to 294024\n",
      "Data columns (total 6 columns):\n",
      "id              20000 non-null int64\n",
      "qid1            20000 non-null int64\n",
      "qid2            20000 non-null int64\n",
      "question1       20000 non-null object\n",
      "question2       20000 non-null object\n",
      "is_duplicate    20000 non-null int64\n",
      "dtypes: int64(4), object(2)\n",
      "memory usage: 1.1+ MB\n"
     ]
    }
   ],
   "source": [
    "#It's a good idea to take only a small sample of the data\n",
    "#We can remove this block when we are ready to test the whole dataset\n",
    "sample_size = 10000\n",
    "true_questions = df_train[df_train.is_duplicate == 1]\n",
    "false_questions = df_train[df_train.is_duplicate == 0]\n",
    "\n",
    "df_train = pd.concat([true_questions.sample(sample_size), false_questions.sample(sample_size)])\n",
    "df_train = df_train.sample(df_train.shape[0])\n",
    "df_train.info()"
   ]
  },
  {
   "cell_type": "code",
   "execution_count": 21,
   "metadata": {
    "collapsed": false
   },
   "outputs": [
    {
     "name": "stderr",
     "output_type": "stream",
     "text": [
      "\n",
      "\n",
      "Question1 Progress:   0%| | 1/20000 [02:05<698:57:19, 125.82s/it]"
     ]
    },
    {
     "name": "stdout",
     "output_type": "stream",
     "text": [
      "[nltk_data] Downloading package stopwords to\n",
      "[nltk_data]     C:\\Users\\G4M3M4ST3R\\AppData\\Roaming\\nltk_data...\n",
      "[nltk_data]   Unzipping corpora\\stopwords.zip.\n"
     ]
    },
    {
     "name": "stderr",
     "output_type": "stream",
     "text": [
      "\n",
      "\n",
      "Question1 Progress:   0%|         | 0/20000 [00:00<?, ?it/s]\n",
      "\n",
      "Question1 Progress:  34%|▎| 6732/20000 [00:02<00:03, 3365.18it/s]\n",
      "\n",
      "Question1 Progress:  67%|▋| 13413/20000 [00:04<00:01, 3357.70it/s]\n",
      "\n",
      "Question1 Progress: 100%|█| 20000/20000 [00:05<00:00, 3356.81it/s]\n",
      "\n",
      "Question2 Progress:   0%|         | 0/20000 [00:00<?, ?it/s]\n",
      "\n",
      "Question2 Progress:  33%|▎| 6667/20000 [00:02<00:04, 3332.69it/s]\n",
      "\n",
      "Question2 Progress:  66%|▋| 13297/20000 [00:04<00:02, 3327.13it/s]\n",
      "\n",
      "Question2 Progress:  99%|▉| 19806/20000 [00:06<00:00, 3304.76it/s]\n",
      "\n",
      "Question2 Progress: 100%|█| 20000/20000 [00:06<00:00, 3296.82it/s]"
     ]
    }
   ],
   "source": [
    "#Firstly, we should clean the data. This will give our model the best chance to identify duplicates accurately. \n",
    "#This means removing ambiguous stop words.\n",
    "\n",
    "import nltk\n",
    "nltk.download(\"stopwords\")\n",
    "from tqdm import tqdm #for progressbar\n",
    "\n",
    "def extractStopWords(question):\n",
    "    stops = set(stopwords.words(\"english\"))\n",
    "    words = question.split()\n",
    "    meaningful_words = [w.lower() for w in words if not w in stops]\n",
    "    return meaningful_words      \n",
    "        \n",
    "tqdm.pandas(mininterval=2,ncols=60, desc='Question1 Progress')\n",
    "df_train[\"cleaned_q1\"] = df_train.question1.progress_apply(extractStopWords)\n",
    "\n",
    "tqdm.pandas(mininterval=2,ncols=60, desc='Question2 Progress')\n",
    "df_train[\"cleaned_q2\"] = df_train.question2.progress_apply(extractStopWords)"
   ]
  },
  {
   "cell_type": "code",
   "execution_count": 24,
   "metadata": {
    "collapsed": false
   },
   "outputs": [
    {
     "name": "stdout",
     "output_type": "stream",
     "text": [
      "Training model...\n",
      "Training Complete!\n",
      "Number of tokens in Word2Vec: 6668\n"
     ]
    }
   ],
   "source": [
    "#Now we can finally begin constructing our CNN\n",
    "#Let's first create word vectors for our questions\n",
    "import gensim\n",
    "\n",
    "questions = list(df_train['cleaned_q1']) + list(df_train['cleaned_q2'])\n",
    "\n",
    "# tokenize\n",
    "#i = 0\n",
    "#for question in tqdm(questions):\n",
    "#    questions[i] = list(gensim.utils.tokenize(question, deacc=True, lower=True))\n",
    "#    i += 1\n",
    "    \n",
    "    \n",
    "\n",
    "# Set values for various parameters\n",
    "num_features = 300                   \n",
    "num_workers = 16                    \n",
    "iteration = 10                                                                                  \n",
    "num_neg = 20 \n",
    "\n",
    "print (\"Training model...\")\n",
    "model = gensim.models.Word2Vec(questions, \n",
    "                          workers=num_workers,\n",
    "                          size=num_features, \n",
    "                          iter=iteration,\n",
    "            negative=num_neg)\n",
    "print (\"Training Complete!\")\n",
    "\n",
    "# If you don't plan to train the model any further, calling \n",
    "# init_sims will make the model much more memory-efficient.\n",
    "model.init_sims(replace=True)\n",
    "\n",
    "# creta a dict \n",
    "w2v = dict(zip(model.wv.index2word, model.wv.syn0))\n",
    "print (\"Number of tokens in Word2Vec:\", len(w2v.keys()))"
   ]
  },
  {
   "cell_type": "code",
   "execution_count": 25,
   "metadata": {
    "collapsed": false
   },
   "outputs": [
    {
     "data": {
      "text/plain": [
       "[('60', 0.986575722694397),\n",
       " ('food,', 0.9854674339294434),\n",
       " ('ages', 0.9844881892204285),\n",
       " ('weak', 0.983527660369873),\n",
       " ('worried', 0.9834195971488953),\n",
       " ('overweight', 0.9833500385284424),\n",
       " ('hand?', 0.9832106828689575),\n",
       " ('emma', 0.9830905795097351),\n",
       " ('persons', 0.9826271533966064),\n",
       " ('walk', 0.9822831749916077)]"
      ]
     },
     "execution_count": 25,
     "metadata": {},
     "output_type": "execute_result"
    }
   ],
   "source": [
    "model.most_similar(\"sugar\")"
   ]
  },
  {
   "cell_type": "code",
   "execution_count": null,
   "metadata": {
    "collapsed": true
   },
   "outputs": [],
   "source": []
  }
 ],
 "metadata": {
  "kernelspec": {
   "display_name": "Python 3",
   "language": "python",
   "name": "python3"
  },
  "language_info": {
   "codemirror_mode": {
    "name": "ipython",
    "version": 3
   },
   "file_extension": ".py",
   "mimetype": "text/x-python",
   "name": "python",
   "nbconvert_exporter": "python",
   "pygments_lexer": "ipython3",
   "version": "3.6.0"
  }
 },
 "nbformat": 4,
 "nbformat_minor": 2
}
